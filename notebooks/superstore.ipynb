{
 "cells": [
  {
   "cell_type": "code",
   "execution_count": null,
   "source": [
    "import fs from 'fs';\r\n",
    "const arrowData = fs.readFileSync('../data/superstore.arrow', null); // binary\r\n",
    "arrowData"
   ],
   "outputs": [],
   "metadata": {}
  }
 ],
 "metadata": {
  "orig_nbformat": 4,
  "language_info": {
   "name": "csharp"
  }
 },
 "nbformat": 4,
 "nbformat_minor": 2
}