{
 "cells": [
  {
   "cell_type": "code",
   "execution_count": null,
   "metadata": {
    "dotnet_interactive": {
     "language": "csharp"
    }
   },
   "outputs": [],
   "source": [
    "using System.Net.Http;\r\n",
    "using System.Text.Json;\r\n",
    "using Microsoft.DotNet.Interactive.Formatting;\r\n",
    "using Microsoft.DotNet.Interactive.Formatting.TabularData;\r\n",
    "\r\n",
    "var dataUrl = \"https://data.cityofchicago.org/resource/4i42-qv3h.json\";\r\n",
    "var data = await new HttpClient().GetStringAsync(dataUrl);\r\n",
    "JsonDocument.Parse(data).ToTabularDataResource()"
   ]
  }
 ],
 "metadata": {
  "kernelspec": {
   "display_name": ".NET (C#)",
   "language": "C#",
   "name": ".net-csharp"
  },
  "language_info": {
   "file_extension": ".cs",
   "mimetype": "text/x-csharp",
   "name": "C#",
   "pygments_lexer": "csharp",
   "version": "9.0"
  },
  "orig_nbformat": 4
 },
 "nbformat": 4,
 "nbformat_minor": 2
}